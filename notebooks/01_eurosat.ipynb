{
 "cells": [
  {
   "cell_type": "code",
   "execution_count": 19,
   "metadata": {},
   "outputs": [],
   "source": [
    "import sys\n",
    "\n",
    "sys.path.insert(0, \"..\")\n",
    "from src.data import make_dataset, data_tools\n",
    "import numpy as np\n",
    "import tifffile\n",
    "from src.settings import EurosatSettings\n"
   ]
  },
  {
   "cell_type": "markdown",
   "metadata": {},
   "source": [
    "# 1 Download data\n",
    "This will take about 30 minutes\n",
    "While waiting, read about the dataset we are using on their [github](https://github.com/phelber/eurosat)"
   ]
  },
  {
   "cell_type": "code",
   "execution_count": 20,
   "metadata": {},
   "outputs": [],
   "source": [
    "settings = EurosatSettings()\n",
    "data_dir = settings.data_dir\n",
    "#datapath = make_dataset.get_eurosat(data_dir)\n"
   ]
  },
  {
   "cell_type": "markdown",
   "metadata": {},
   "source": [
    "Load all valid paths. The files are images in .tif format"
   ]
  },
  {
   "cell_type": "code",
   "execution_count": 21,
   "metadata": {},
   "outputs": [],
   "source": [
    "valid_paths = data_dir / settings.valid_paths\n",
    "all_paths, _ = data_tools.iter_valid_paths(valid_paths, formats=[\".tif\"])\n",
    "all_paths = [*all_paths]\n"
   ]
  },
  {
   "cell_type": "markdown",
   "metadata": {},
   "source": [
    "You can load the files with `tifffile.imread(\"path/to/img.tif\")`"
   ]
  },
  {
   "cell_type": "code",
   "execution_count": 22,
   "metadata": {},
   "outputs": [
    {
     "name": "stdout",
     "output_type": "stream",
     "text": [
      "1.19 ms ± 2.21 µs per loop (mean ± std. dev. of 7 runs, 1,000 loops each)\n"
     ]
    },
    {
     "data": {
      "text/plain": [
       "76.45908160000026"
      ]
     },
     "execution_count": 22,
     "metadata": {},
     "output_type": "execute_result"
    }
   ],
   "source": [
    "loadtime = %timeit -o tifffile.imread(all_paths[1])\n",
    "loadtime.average * 2 * 32 * 1000"
   ]
  },
  {
   "cell_type": "markdown",
   "metadata": {},
   "source": [
    "As you can see, loading a tifffile is pretty fast. I clock 1.24 ms per image. This means that you expect the loader to take at least 1.24 x 4 images x batchsize x 1000 milliseconds, which is around 160ms. \n",
    "\n",
    "If your dataloader would take much more time than that (e.g. 500 ms per batch) you are doing something inefficient in your code."
   ]
  },
  {
   "cell_type": "markdown",
   "metadata": {},
   "source": [
    "# 2 motivation: Siamese networks\n",
    "<img src=\"https://929687.smushcdn.com/2633864/wp-content/uploads/2020/11/keras_siamese_networks_header.png?lossy=1&strip=1&webp=1\" />\n",
    "\n",
    "We will build a dataloader for a Siamese network.\n",
    "This is a semi-unsupervised architecture. It:\n",
    "- takes in *two* images instead of one\n",
    "- every image is processed by the *same* model (e.g. a CNN)\n",
    "- the output of the model is a vector. Your input is (batch, channels, width, height) and the output is (batch, dimensions). Think of the vectors as locations in a space. E.g. you can locate Utrecht with two dimenions: (52.0929, 5.1045) on the globe (latitude, longitude). This is the same idea, only here the vector has more than 2 dimensions.\n",
    "- after this, you can compare the *distance* between the two vectors.\n",
    "- The distance should be close if the images are the same, or far away if they are not.\n",
    "\n",
    "# 3 Datastructure\n",
    "We will not build a siamese network, just the dataloader.\n",
    "This means we will need a dataloader that spits out:\n",
    "(X1, X2, y)  instead of our usual (X, y).\n",
    "\n",
    "The label y will be: 1 if the two images are from the same class, 0 otherwise.\n",
    "\n",
    "The most naive approach would be something like is implemented [here](https://datahacker.rs/019-siamese-network-in-pytorch-with-application-to-face-similarity): to get the same class, you just keep on loading images at random in a while loop untill you hit the same class by accident... \n",
    "\n",
    "I hope you can understand why this is a *horrible* idea in terms of efficiency!\n",
    "And another reason to be very carefull to implement random code from the internet...\n",
    "\n",
    "To spell out why: with 10 classes (or, even worse, 40 classes in the example link) you will pick every class with a chance $p=\\frac{1}{10}$ (or $p=\\frac{1}{40}$). So the chance you *dont* pick the same class is $(1-p)$. You would have to do about 6 random picks to get close to a 50% chance of picking the same class ($0.9^6=0.53$), and even up to 26 guesses with 40 classes ($0.975^{26}=0.51$). This is a horrible waste of resources. You will end up spending a big chunk of your time loading random images, and it scales absolutely horrific with more classes (try to calculate how often you need to guess with 100 classes, or 150...) So, can we do better?\n",
    "\n",
    "We will use a different datastructure to do this in a proper way! No worries, I will help you along the way.\n"
   ]
  },
  {
   "cell_type": "markdown",
   "metadata": {},
   "source": [
    "As a datastructure, we will need something where we easily can pull two images from the same class. To do this, we will make a `Dict[int, np.array]` where the numpy array is an array of paths.\n",
    "\n",
    "We use the np.array instead of the list, in order to be able to quickly grab two random items from the array with an integer index.\n",
    "\n",
    "A dummy example is below"
   ]
  },
  {
   "cell_type": "code",
   "execution_count": 23,
   "metadata": {},
   "outputs": [
    {
     "data": {
      "text/plain": [
       "[2, 2, 3]"
      ]
     },
     "execution_count": 23,
     "metadata": {},
     "output_type": "execute_result"
    }
   ],
   "source": [
    "dummy = {\n",
    "    0: np.array([\"path/to/a/01.jpg\", \"path/to/a/02.jpg\"]),\n",
    "    1: np.array([\"path/to/b/03.jpg\", \"path/to/b/04.jpg\"]),\n",
    "    2: np.array([\"path/to/c/05.jpg\", \"path/to/c/06.jpg\", \"path/to/c/07.jpg\"]),\n",
    "}\n",
    "\n",
    "[len(v) for k, v in dummy.items()]\n"
   ]
  },
  {
   "cell_type": "markdown",
   "metadata": {},
   "source": [
    "You see we have three classed (a, b and c), that are in the dictionary as class 0, 1, and 2, and every class has two or three images listed (to be exact with the last line of code: 2, 2, and 3).\n",
    "\n",
    "In addition to this, we want our dataset to have a name_mapping that is a `Dict[str, int]` which maps from the names to an integer. In our case this will be\n",
    "\n",
    "```python\n",
    "name_mapping = {\n",
    "    \"a\" : 0,\n",
    "    \"b\" : 1,\n",
    "    \"c\" : 2\n",
    "}\n",
    "```\n",
    "\n",
    "If we need two images from class 2, we can create a random index [0, 2] and the code example below will give us two images (the 0th and the 2nd) that are from the same class."
   ]
  },
  {
   "cell_type": "code",
   "execution_count": 24,
   "metadata": {},
   "outputs": [
    {
     "data": {
      "text/plain": [
       "array(['path/to/c/05.jpg', 'path/to/c/07.jpg'], dtype='<U16')"
      ]
     },
     "execution_count": 24,
     "metadata": {},
     "output_type": "execute_result"
    }
   ],
   "source": [
    "classlabel = 2\n",
    "idx = np.array([0, 2])\n",
    "dummy[classlabel][idx]"
   ]
  },
  {
   "cell_type": "markdown",
   "metadata": {},
   "source": [
    "## Question 1\n",
    "We want to implement `EuroSatDataset`, which inherits from `BaseDataset`.\n",
    "### Implement `__len__`\n",
    "in the example above, the lenght of the dataset is 2+2+3=7.\n",
    "The lengths of the dataset is the count of all paths in all classes.\n",
    "\n",
    "Implement the `__len__` method in the EuroSatDataset in data_tools.py so that it returns the correct lenght of the dataset.\n"
   ]
  },
  {
   "cell_type": "code",
   "execution_count": 25,
   "metadata": {},
   "outputs": [
    {
     "name": "stderr",
     "output_type": "stream",
     "text": [
      "100%|██████████| 8753/8753 [00:00<00:00, 56624.62it/s]\n"
     ]
    }
   ],
   "source": [
    "eurosat = data_tools.EuroSatDataset(paths=all_paths)"
   ]
  },
  {
   "cell_type": "code",
   "execution_count": 26,
   "metadata": {},
   "outputs": [
    {
     "name": "stdout",
     "output_type": "stream",
     "text": [
      "De Eurosatdataset heeft: 8753 paden\n"
     ]
    }
   ],
   "source": [
    "eurosat.__len__()\n",
    "\n",
    "#Opdracht 1: in src/data/data_tools.py regel 139 - 145 function __len__\n",
    "\n",
    "print(\"De Eurosatdataset heeft:\",  eurosat.__len__(), \"paden\")"
   ]
  },
  {
   "cell_type": "markdown",
   "metadata": {},
   "source": [
    "## Question 2\n",
    "### implement process_data\n",
    "\n",
    "Finish `process_data`. You need to fill the dataset dict structure.\n",
    "To do this, you need to map a key (which is an integer: the label mapped to an int).\n",
    "In our example, the label \"a\" should be stored as key 0. Use `name_mapping` for that:\n",
    "\n",
    "```python\n",
    "name_mapping[\"a\"]\n",
    "```\n",
    "\n",
    "will return the correct integer we can use as a key.\n",
    "\n",
    "You also need to store the values: paths in an np.array. \n",
    "To do this, we will start with an empty np.array, and keep appending new paths to this array.\n",
    "While that is not an ideal thing to do, we only need to do this once so it is acceptable.\n",
    "\n",
    "The endresult of `process_data` should be, that the input `all_paths` is transformed into a Dict[int, np.array] dataset, just like the dummy example below.\n",
    "\n",
    "```python\n",
    "dummy = {\n",
    "    0: np.array([\"path/to/a/01.jpg\", \"path/to/a/02.jpg\"]),\n",
    "    1: np.array([\"path/to/b/03.jpg\", \"path/to/b/04.jpg\"]),\n",
    "    2: np.array([\"path/to/c/05.jpg\", \"path/to/c/06.jpg\", \"path/to/c/07.jpg\"]),\n",
    "}\n",
    "```"
   ]
  },
  {
   "cell_type": "code",
   "execution_count": 27,
   "metadata": {},
   "outputs": [
    {
     "data": {
      "text/plain": [
       "array(['path/to/c/05.jpg', 'path/to/c/07.jpg'], dtype='<U16')"
      ]
     },
     "execution_count": 27,
     "metadata": {},
     "output_type": "execute_result"
    }
   ],
   "source": [
    "classlabel = 2\n",
    "idx = np.array([0, 2])\n",
    "dummy[classlabel][idx]\n"
   ]
  },
  {
   "cell_type": "code",
   "execution_count": 28,
   "metadata": {},
   "outputs": [
    {
     "name": "stderr",
     "output_type": "stream",
     "text": [
      "100%|██████████| 8753/8753 [00:00<00:00, 56502.79it/s]\n"
     ]
    }
   ],
   "source": [
    "eurosat = data_tools.EuroSatDataset(paths=all_paths)\n"
   ]
  },
  {
   "cell_type": "markdown",
   "metadata": {},
   "source": [
    "You can run this test"
   ]
  },
  {
   "cell_type": "code",
   "execution_count": 29,
   "metadata": {},
   "outputs": [
    {
     "data": {
      "text/plain": [
       "([2500, 2500, 2500, 933, 60, 100, 50, 50, 50, 10],\n",
       " {'Industrial': 0,\n",
       "  'PermanentCrop': 1,\n",
       "  'Highway': 2,\n",
       "  'HerbaceousVegetation': 3,\n",
       "  'Pasture': 4,\n",
       "  'Residential': 5,\n",
       "  'River': 6,\n",
       "  'Forest': 7,\n",
       "  'SeaLake': 8,\n",
       "  'AnnualCrop': 9},\n",
       " 10)"
      ]
     },
     "execution_count": 29,
     "metadata": {},
     "output_type": "execute_result"
    }
   ],
   "source": [
    "dataset = eurosat.dataset\n",
    "[len(v) for k, v in dataset.items()], eurosat.name_mapping, len(dataset)\n"
   ]
  },
  {
   "cell_type": "code",
   "execution_count": 30,
   "metadata": {},
   "outputs": [
    {
     "name": "stdout",
     "output_type": "stream",
     "text": [
      "Aantal key-value paren in dataset: 10\n",
      "\n",
      "Dat zijn de volgende paren (label en key):\n",
      "{'Industrial': 0, 'PermanentCrop': 1, 'Highway': 2, 'HerbaceousVegetation': 3, 'Pasture': 4, 'Residential': 5, 'River': 6, 'Forest': 7, 'SeaLake': 8, 'AnnualCrop': 9}\n",
      "\n",
      "Aantal items per key (op volgorde van 0-9):\n",
      "[2500, 2500, 2500, 933, 60, 100, 50, 50, 50, 10]\n"
     ]
    }
   ],
   "source": [
    "#Vraag 2 in src/data/data_tools.py regel 161 - 162 function process_data\n",
    "\n",
    "print(\"Aantal key-value paren in dataset:\", len(dataset))\n",
    "print(\"\")\n",
    "print(\"Dat zijn de volgende paren (label en key):\")\n",
    "print(eurosat.name_mapping)\n",
    "print(\"\")\n",
    "print(\"Aantal items per key (op volgorde van 0-9):\") \n",
    "print([len(v) for k, v in dataset.items()])\n"
   ]
  },
  {
   "cell_type": "code",
   "execution_count": 31,
   "metadata": {},
   "outputs": [
    {
     "name": "stdout",
     "output_type": "stream",
     "text": [
      "Voorbeeld van de items per key: de eerste key 'River[0]'\n",
      "\n",
      "[PosixPath('/home/mladmin/code/examen-22/data/raw/ds/images/remote_sensing/otherDatasets/sentinel_2/tif/Industrial/Industrial_797.tif')\n",
      " PosixPath('/home/mladmin/code/examen-22/data/raw/ds/images/remote_sensing/otherDatasets/sentinel_2/tif/Industrial/Industrial_2228.tif')\n",
      " PosixPath('/home/mladmin/code/examen-22/data/raw/ds/images/remote_sensing/otherDatasets/sentinel_2/tif/Industrial/Industrial_1541.tif')\n",
      " ...\n",
      " PosixPath('/home/mladmin/code/examen-22/data/raw/ds/images/remote_sensing/otherDatasets/sentinel_2/tif/Industrial/Industrial_969.tif')\n",
      " PosixPath('/home/mladmin/code/examen-22/data/raw/ds/images/remote_sensing/otherDatasets/sentinel_2/tif/Industrial/Industrial_1313.tif')\n",
      " PosixPath('/home/mladmin/code/examen-22/data/raw/ds/images/remote_sensing/otherDatasets/sentinel_2/tif/Industrial/Industrial_1799.tif')]\n"
     ]
    }
   ],
   "source": [
    "print(\"Voorbeeld van de items per key: de eerste key 'River[0]'\")\n",
    "print(\"\")\n",
    "print(dataset[0])"
   ]
  },
  {
   "cell_type": "markdown",
   "metadata": {},
   "source": [
    "# Question 3\n",
    "## implement batchloop\n",
    "\n",
    "It is not straightforward to implement a mechanism that picks two random images from the same class, and two random images from different classes, and do so at speed.\n",
    "I made an implementation to help you on the way.\n",
    "\n",
    "My implementation is fast enough, but if you dont want to use it you can implement it in another way for yourself.\n",
    "\n",
    "The endresult should be the same, however:\n",
    "- fill a batch with 50% similar images from the same class with label 1 (x1, x2, 1) and 50% images with different classes with label 0 (x1, x2, 0)"
   ]
  },
  {
   "cell_type": "markdown",
   "metadata": {},
   "source": [
    "My random_index() function returns five items. The first two are:\n",
    "- equal (int): this is a random class key from which to pick similar images\n",
    "- same (List[np.array]) : this is a list of indexes. You can use an index to get two images from the class \n",
    "\n",
    "A working example with the dummy data is like this:"
   ]
  },
  {
   "cell_type": "code",
   "execution_count": 32,
   "metadata": {},
   "outputs": [
    {
     "data": {
      "text/plain": [
       "('path/to/c/05.jpg', 'path/to/c/06.jpg')"
      ]
     },
     "execution_count": 32,
     "metadata": {},
     "output_type": "execute_result"
    }
   ],
   "source": [
    "equal = 2 # from class two\n",
    "same = [np.array([0, 1]), np.array([0, 2])] # we can pick these two combos\n",
    "idx = same[0] # we use the first one of the combos\n",
    "x1, x2 = dummy[equal][idx] # and retrieve from class 2 the paths on index 0 and 1\n",
    "x1, x2"
   ]
  },
  {
   "cell_type": "markdown",
   "metadata": {},
   "source": [
    "As you can see, this selects images from class number 2 (`equal`)\n",
    "The images selected are the 0th and 1th (`same[0]`).\n",
    "The result is two paths, both in class \"c\" (which is the 2nd class).\n",
    "\n",
    "The other 3 items random_index() returns are:\n",
    "- i and j. Two different class keys \n",
    "- other. A list of tuples, every tuple contains two indexes, one from class i, one from class j "
   ]
  },
  {
   "cell_type": "code",
   "execution_count": 33,
   "metadata": {},
   "outputs": [
    {
     "data": {
      "text/plain": [
       "('path/to/a/01.jpg', 'path/to/c/05.jpg')"
      ]
     },
     "execution_count": 33,
     "metadata": {},
     "output_type": "execute_result"
    }
   ],
   "source": [
    "i = 0 # the first class we will pick from\n",
    "j = 2 # the second class we will pick from\n",
    "other = [(0, 0), (0, 2), (1, 2)] # these are the possible path indeces\n",
    "\n",
    "idx = other[0] # we take the first combo\n",
    "x1, x2 = dummy[i][idx[0]], dummy[j][idx[1]] \n",
    "# and extract from class i the 0th path (idx[0]),\n",
    "# and from class j also the 0th path (idx[1]))\n",
    "x1, x2 # this gives us two paths, from different classes\n"
   ]
  },
  {
   "cell_type": "markdown",
   "metadata": {},
   "source": [
    "As you can see, even though the two indexes in `other` are both 0, one of them is pulled from class i, the other from class j.\n",
    "We end up with two different paths from class \"a\" and class \"c\".\n",
    "\n",
    "Implement this mechanism in SiameseStreamer.batchloop()\n",
    "\n",
    "## Tests\n",
    "You can run these tests to see if everything works as expected"
   ]
  },
  {
   "cell_type": "code",
   "execution_count": 34,
   "metadata": {},
   "outputs": [
    {
     "data": {
      "text/plain": [
       "8753"
      ]
     },
     "execution_count": 34,
     "metadata": {},
     "output_type": "execute_result"
    }
   ],
   "source": [
    "len(eurosat)"
   ]
  },
  {
   "cell_type": "code",
   "execution_count": 35,
   "metadata": {},
   "outputs": [],
   "source": [
    "streamer = data_tools.SiameseStreamer(\n",
    "    dataset=eurosat,\n",
    "    batchsize=32,\n",
    ").stream()"
   ]
  },
  {
   "cell_type": "code",
   "execution_count": 36,
   "metadata": {},
   "outputs": [],
   "source": [
    "#%timeit \n",
    "x1, x2, y = next(streamer)"
   ]
  },
  {
   "cell_type": "code",
   "execution_count": 37,
   "metadata": {},
   "outputs": [
    {
     "name": "stdout",
     "output_type": "stream",
     "text": [
      "32 32 32\n"
     ]
    },
    {
     "data": {
      "text/plain": [
       "(array([[[1671, 1723, 1800, ..., 2644, 2133, 3259],\n",
       "         [1671, 1723, 1800, ..., 2644, 2133, 3259],\n",
       "         [1659, 1716, 1767, ..., 2591, 2060, 3252],\n",
       "         ...,\n",
       "         [1481, 1151, 1088, ..., 1199,  944, 2058],\n",
       "         [1477, 1117, 1037, ..., 1184,  922, 2034],\n",
       "         [1478, 1151, 1070, ..., 1193,  919, 2001]],\n",
       " \n",
       "        [[1671, 1723, 1800, ..., 2644, 2133, 3259],\n",
       "         [1671, 1723, 1800, ..., 2644, 2133, 3259],\n",
       "         [1659, 1716, 1767, ..., 2591, 2060, 3252],\n",
       "         ...,\n",
       "         [1481, 1151, 1088, ..., 1199,  944, 2058],\n",
       "         [1477, 1117, 1037, ..., 1184,  922, 2034],\n",
       "         [1478, 1151, 1070, ..., 1193,  919, 2001]],\n",
       " \n",
       "        [[1670, 1713, 1739, ..., 2416, 1887, 3290],\n",
       "         [1670, 1713, 1739, ..., 2416, 1887, 3290],\n",
       "         [1660, 1684, 1711, ..., 2370, 1828, 3320],\n",
       "         ...,\n",
       "         [1496, 1033,  832, ..., 1090,  850, 1820],\n",
       "         [1492, 1033,  881, ..., 1052,  809, 1791],\n",
       "         [1491, 1015,  872, ..., 1045,  792, 1763]],\n",
       " \n",
       "        ...,\n",
       " \n",
       "        [[1708, 1403, 1215, ..., 1536, 1303, 1876],\n",
       "         [1708, 1403, 1215, ..., 1536, 1303, 1876],\n",
       "         [1789, 1539, 1420, ..., 1802, 1561, 2090],\n",
       "         ...,\n",
       "         [1942, 2085, 2652, ..., 4143, 3830, 4209],\n",
       "         [1948, 2331, 2923, ..., 3776, 3461, 3884],\n",
       "         [1950, 2518, 3067, ..., 3196, 2848, 3276]],\n",
       " \n",
       "        [[1707, 1186, 1057, ..., 1585, 1259, 2173],\n",
       "         [1707, 1186, 1057, ..., 1585, 1259, 2173],\n",
       "         [1784, 1419, 1246, ..., 1845, 1515, 2324],\n",
       "         ...,\n",
       "         [1963, 2386, 3175, ..., 3913, 3627, 3999],\n",
       "         [1967, 2407, 3161, ..., 3551, 3244, 3671],\n",
       "         [1964, 2345, 2861, ..., 3007, 2656, 3108]],\n",
       " \n",
       "        [[1711, 1173, 1015, ..., 1670, 1239, 2576],\n",
       "         [1711, 1173, 1015, ..., 1670, 1239, 2576],\n",
       "         [1785, 1374, 1325, ..., 1907, 1477, 2638],\n",
       "         ...,\n",
       "         [1982, 2062, 2606, ..., 3403, 3091, 3395],\n",
       "         [1983, 1947, 2345, ..., 3094, 2752, 3088],\n",
       "         [1976, 1456, 1654, ..., 2662, 2301, 2667]]], dtype=int32),\n",
       " array([[[1263,  967, 1050, ..., 1655,  834, 4247],\n",
       "         [1263,  967, 1050, ..., 1655,  834, 4247],\n",
       "         [1242,  958, 1014, ..., 1569,  751, 4324],\n",
       "         ...,\n",
       "         [1156,  877,  695, ...,  910,  385, 3517],\n",
       "         [1155,  868,  702, ...,  896,  374, 3597],\n",
       "         [1153,  824,  668, ...,  877,  358, 3680]],\n",
       " \n",
       "        [[1263,  967, 1050, ..., 1655,  834, 4247],\n",
       "         [1263,  967, 1050, ..., 1655,  834, 4247],\n",
       "         [1242,  958, 1014, ..., 1569,  751, 4324],\n",
       "         ...,\n",
       "         [1156,  877,  695, ...,  910,  385, 3517],\n",
       "         [1155,  868,  702, ...,  896,  374, 3597],\n",
       "         [1153,  824,  668, ...,  877,  358, 3680]],\n",
       " \n",
       "        [[1258,  966, 1040, ..., 1606,  778, 4345],\n",
       "         [1258,  966, 1040, ..., 1606,  778, 4345],\n",
       "         [1239,  974, 1046, ..., 1548,  729, 4364],\n",
       "         ...,\n",
       "         [1156,  871,  700, ...,  912,  384, 3515],\n",
       "         [1155,  880,  727, ...,  897,  371, 3581],\n",
       "         [1153,  857,  678, ...,  878,  355, 3666]],\n",
       " \n",
       "        ...,\n",
       " \n",
       "        [[1182,  848,  736, ..., 1445,  588, 4400],\n",
       "         [1182,  848,  736, ..., 1445,  588, 4400],\n",
       "         [1181,  916,  856, ..., 1445,  600, 4531],\n",
       "         ...,\n",
       "         [1169,  885,  735, ...,  946,  409, 3335],\n",
       "         [1167,  862,  695, ...,  933,  400, 3337],\n",
       "         [1164,  874,  689, ...,  917,  388, 3391]],\n",
       " \n",
       "        [[1184,  853,  776, ..., 1461,  597, 4465],\n",
       "         [1184,  853,  776, ..., 1461,  597, 4465],\n",
       "         [1182,  889,  881, ..., 1473,  614, 4571],\n",
       "         ...,\n",
       "         [1169,  892,  734, ...,  955,  411, 3329],\n",
       "         [1167,  867,  701, ...,  941,  404, 3335],\n",
       "         [1165,  865,  691, ...,  923,  392, 3385]],\n",
       " \n",
       "        [[1186,  853,  813, ..., 1456,  598, 4439],\n",
       "         [1186,  853,  813, ..., 1456,  598, 4439],\n",
       "         [1184,  917,  893, ..., 1480,  621, 4524],\n",
       "         ...,\n",
       "         [1170,  900,  745, ...,  964,  414, 3327],\n",
       "         [1168,  873,  718, ...,  948,  408, 3328],\n",
       "         [1166,  863,  695, ...,  930,  396, 3371]]], dtype=int32),\n",
       " (0,\n",
       "  1,\n",
       "  1,\n",
       "  1,\n",
       "  0,\n",
       "  1,\n",
       "  0,\n",
       "  0,\n",
       "  0,\n",
       "  0,\n",
       "  0,\n",
       "  1,\n",
       "  1,\n",
       "  1,\n",
       "  1,\n",
       "  0,\n",
       "  1,\n",
       "  1,\n",
       "  1,\n",
       "  1,\n",
       "  1,\n",
       "  0,\n",
       "  0,\n",
       "  0,\n",
       "  0,\n",
       "  0,\n",
       "  0,\n",
       "  0,\n",
       "  1,\n",
       "  0,\n",
       "  1,\n",
       "  1))"
      ]
     },
     "execution_count": 37,
     "metadata": {},
     "output_type": "execute_result"
    }
   ],
   "source": [
    "#x1.shape, x2.shape --> Tuples geven geen output\n",
    "\n",
    "print(len(x1), len(x2), len(y))\n",
    "\n",
    "x1[0],x2[0],y\n",
    "\n"
   ]
  },
  {
   "cell_type": "code",
   "execution_count": 38,
   "metadata": {},
   "outputs": [
    {
     "ename": "TiffFileError",
     "evalue": "not a TIFF file b''",
     "output_type": "error",
     "traceback": [
      "\u001b[0;31m---------------------------------------------------------------------------\u001b[0m",
      "\u001b[0;31mKeyError\u001b[0m                                  Traceback (most recent call last)",
      "File \u001b[0;32m~/.cache/pypoetry/virtualenvs/exam-22-DDG3aTJy-py3.9/lib/python3.9/site-packages/tifffile/tifffile.py:3609\u001b[0m, in \u001b[0;36mTiffFile.__init__\u001b[0;34m(self, file, mode, name, offset, size, _multifile, _useframes, _parent, **kwargs)\u001b[0m\n\u001b[1;32m   3608\u001b[0m \u001b[39mtry\u001b[39;00m:\n\u001b[0;32m-> 3609\u001b[0m     byteorder \u001b[39m=\u001b[39m {\u001b[39mb\u001b[39;49m\u001b[39m'\u001b[39;49m\u001b[39mII\u001b[39;49m\u001b[39m'\u001b[39;49m: \u001b[39m'\u001b[39;49m\u001b[39m<\u001b[39;49m\u001b[39m'\u001b[39;49m, \u001b[39mb\u001b[39;49m\u001b[39m'\u001b[39;49m\u001b[39mMM\u001b[39;49m\u001b[39m'\u001b[39;49m: \u001b[39m'\u001b[39;49m\u001b[39m>\u001b[39;49m\u001b[39m'\u001b[39;49m, \u001b[39mb\u001b[39;49m\u001b[39m'\u001b[39;49m\u001b[39mEP\u001b[39;49m\u001b[39m'\u001b[39;49m: \u001b[39m'\u001b[39;49m\u001b[39m<\u001b[39;49m\u001b[39m'\u001b[39;49m}[header[:\u001b[39m2\u001b[39;49m]]\n\u001b[1;32m   3610\u001b[0m \u001b[39mexcept\u001b[39;00m \u001b[39mKeyError\u001b[39;00m:\n",
      "\u001b[0;31mKeyError\u001b[0m: b''",
      "\nDuring handling of the above exception, another exception occurred:\n",
      "\u001b[0;31mTiffFileError\u001b[0m                             Traceback (most recent call last)",
      "\u001b[1;32m/home/mladmin/code/examen-22/notebooks/01_eurosat.ipynb Cell 34'\u001b[0m in \u001b[0;36m<cell line: 13>\u001b[0;34m()\u001b[0m\n\u001b[1;32m     <a href='vscode-notebook-cell://ssh-remote%2B7b22686f73744e616d65223a224d616368696e654c6561726e696e67227d/home/mladmin/code/examen-22/notebooks/01_eurosat.ipynb#ch0000033vscode-remote?line=11'>12</a>\u001b[0m axs \u001b[39m=\u001b[39m axs\u001b[39m.\u001b[39mravel()\n\u001b[1;32m     <a href='vscode-notebook-cell://ssh-remote%2B7b22686f73744e616d65223a224d616368696e654c6561726e696e67227d/home/mladmin/code/examen-22/notebooks/01_eurosat.ipynb#ch0000033vscode-remote?line=12'>13</a>\u001b[0m \u001b[39mfor\u001b[39;00m i \u001b[39min\u001b[39;00m \u001b[39mrange\u001b[39m(\u001b[39m12\u001b[39m):\n\u001b[0;32m---> <a href='vscode-notebook-cell://ssh-remote%2B7b22686f73744e616d65223a224d616368696e654c6561726e696e67227d/home/mladmin/code/examen-22/notebooks/01_eurosat.ipynb#ch0000033vscode-remote?line=13'>14</a>\u001b[0m     img1, img2, y \u001b[39m=\u001b[39m \u001b[39mnext\u001b[39;49m(streamer)\n\u001b[1;32m     <a href='vscode-notebook-cell://ssh-remote%2B7b22686f73744e616d65223a224d616368696e654c6561726e696e67227d/home/mladmin/code/examen-22/notebooks/01_eurosat.ipynb#ch0000033vscode-remote?line=14'>15</a>\u001b[0m     x \u001b[39m=\u001b[39m show_tif(img1[\u001b[39m0\u001b[39m])\n\u001b[1;32m     <a href='vscode-notebook-cell://ssh-remote%2B7b22686f73744e616d65223a224d616368696e654c6561726e696e67227d/home/mladmin/code/examen-22/notebooks/01_eurosat.ipynb#ch0000033vscode-remote?line=15'>16</a>\u001b[0m     axs[i]\u001b[39m.\u001b[39mimshow(x)\n",
      "File \u001b[0;32m~/code/examen-22/notebooks/../src/data/data_tools.py:359\u001b[0m, in \u001b[0;36mSiameseStreamer.stream\u001b[0;34m(self)\u001b[0m\n\u001b[1;32m    357\u001b[0m \u001b[39mif\u001b[39;00m \u001b[39mself\u001b[39m\u001b[39m.\u001b[39mindex \u001b[39m>\u001b[39m (\u001b[39mself\u001b[39m\u001b[39m.\u001b[39msize \u001b[39m-\u001b[39m \u001b[39mself\u001b[39m\u001b[39m.\u001b[39mbatchsize):\n\u001b[1;32m    358\u001b[0m     \u001b[39mself\u001b[39m\u001b[39m.\u001b[39mreset_index()\n\u001b[0;32m--> 359\u001b[0m batch \u001b[39m=\u001b[39m \u001b[39mself\u001b[39;49m\u001b[39m.\u001b[39;49mbatchloop()\n\u001b[1;32m    360\u001b[0m \u001b[39mif\u001b[39;00m \u001b[39mself\u001b[39m\u001b[39m.\u001b[39mpreprocessor \u001b[39mis\u001b[39;00m \u001b[39mnot\u001b[39;00m \u001b[39mNone\u001b[39;00m:\n\u001b[1;32m    361\u001b[0m     X1, X2, Y \u001b[39m=\u001b[39m \u001b[39mself\u001b[39m\u001b[39m.\u001b[39mpreprocessor(batch)  \u001b[39m# noqa N806\u001b[39;00m\n",
      "File \u001b[0;32m~/code/examen-22/notebooks/../src/data/data_tools.py:343\u001b[0m, in \u001b[0;36mSiameseStreamer.batchloop\u001b[0;34m(self)\u001b[0m\n\u001b[1;32m    335\u001b[0m         \u001b[39mfor\u001b[39;00m idx \u001b[39min\u001b[39;00m other:\n\u001b[1;32m    336\u001b[0m             \u001b[39m# append to the batch a tuple (img1, img2, 0)\u001b[39;00m\n\u001b[1;32m    337\u001b[0m             \u001b[39m# use tifffile to read the image\u001b[39;00m\n\u001b[0;32m   (...)\u001b[0m\n\u001b[1;32m    340\u001b[0m \u001b[39m#----------------------------- Agnes 01_eurosat Question 3 -----------------------------------------\u001b[39;00m\n\u001b[1;32m    341\u001b[0m             \u001b[39m#groep andere class\u001b[39;00m\n\u001b[1;32m    342\u001b[0m             x1,x2 \u001b[39m=\u001b[39m other_i_array[idx[\u001b[39m0\u001b[39m]],other_j_array[idx[\u001b[39m1\u001b[39m]]\n\u001b[0;32m--> 343\u001b[0m             x1 \u001b[39m=\u001b[39m tifffile\u001b[39m.\u001b[39;49mimread(x1)\u001b[39m.\u001b[39mastype(np\u001b[39m.\u001b[39mint32)\n\u001b[1;32m    344\u001b[0m             x2 \u001b[39m=\u001b[39m tifffile\u001b[39m.\u001b[39mimread(x2)\u001b[39m.\u001b[39mastype(np\u001b[39m.\u001b[39mint32)\n\u001b[1;32m    345\u001b[0m             y\u001b[39m=\u001b[39m\u001b[39m0\u001b[39m\n",
      "File \u001b[0;32m~/.cache/pypoetry/virtualenvs/exam-22-DDG3aTJy-py3.9/lib/python3.9/site-packages/tifffile/tifffile.py:973\u001b[0m, in \u001b[0;36mimread\u001b[0;34m(files, aszarr, key, series, level, squeeze, maxworkers, name, offset, size, pattern, axesorder, categories, imread, sort, container, axestiled, ioworkers, chunkmode, fillvalue, zattrs, _multifile, _useframes, **kwargs)\u001b[0m\n\u001b[1;32m    968\u001b[0m     files \u001b[39m=\u001b[39m files[\u001b[39m0\u001b[39m]\n\u001b[1;32m    970\u001b[0m \u001b[39mif\u001b[39;00m \u001b[39misinstance\u001b[39m(files, \u001b[39mstr\u001b[39m) \u001b[39mor\u001b[39;00m \u001b[39mnot\u001b[39;00m \u001b[39misinstance\u001b[39m(\n\u001b[1;32m    971\u001b[0m     files, collections\u001b[39m.\u001b[39mabc\u001b[39m.\u001b[39mSequence\n\u001b[1;32m    972\u001b[0m ):\n\u001b[0;32m--> 973\u001b[0m     \u001b[39mwith\u001b[39;00m TiffFile(\n\u001b[1;32m    974\u001b[0m         files,\n\u001b[1;32m    975\u001b[0m         name\u001b[39m=\u001b[39;49mname,\n\u001b[1;32m    976\u001b[0m         offset\u001b[39m=\u001b[39;49moffset,\n\u001b[1;32m    977\u001b[0m         size\u001b[39m=\u001b[39;49msize,\n\u001b[1;32m    978\u001b[0m         _multifile\u001b[39m=\u001b[39;49m_multifile,\n\u001b[1;32m    979\u001b[0m         _useframes\u001b[39m=\u001b[39;49m_useframes,\n\u001b[1;32m    980\u001b[0m         \u001b[39m*\u001b[39;49m\u001b[39m*\u001b[39;49mis_flags,\n\u001b[1;32m    981\u001b[0m     ) \u001b[39mas\u001b[39;00m tif:\n\u001b[1;32m    982\u001b[0m         \u001b[39mif\u001b[39;00m aszarr:\n\u001b[1;32m    983\u001b[0m             \u001b[39massert\u001b[39;00m key \u001b[39mis\u001b[39;00m \u001b[39mNone\u001b[39;00m \u001b[39mor\u001b[39;00m \u001b[39misinstance\u001b[39m(key, \u001b[39mint\u001b[39m)\n",
      "File \u001b[0;32m~/.cache/pypoetry/virtualenvs/exam-22-DDG3aTJy-py3.9/lib/python3.9/site-packages/tifffile/tifffile.py:3611\u001b[0m, in \u001b[0;36mTiffFile.__init__\u001b[0;34m(self, file, mode, name, offset, size, _multifile, _useframes, _parent, **kwargs)\u001b[0m\n\u001b[1;32m   3609\u001b[0m     byteorder \u001b[39m=\u001b[39m {\u001b[39mb\u001b[39m\u001b[39m'\u001b[39m\u001b[39mII\u001b[39m\u001b[39m'\u001b[39m: \u001b[39m'\u001b[39m\u001b[39m<\u001b[39m\u001b[39m'\u001b[39m, \u001b[39mb\u001b[39m\u001b[39m'\u001b[39m\u001b[39mMM\u001b[39m\u001b[39m'\u001b[39m: \u001b[39m'\u001b[39m\u001b[39m>\u001b[39m\u001b[39m'\u001b[39m, \u001b[39mb\u001b[39m\u001b[39m'\u001b[39m\u001b[39mEP\u001b[39m\u001b[39m'\u001b[39m: \u001b[39m'\u001b[39m\u001b[39m<\u001b[39m\u001b[39m'\u001b[39m}[header[:\u001b[39m2\u001b[39m]]\n\u001b[1;32m   3610\u001b[0m \u001b[39mexcept\u001b[39;00m \u001b[39mKeyError\u001b[39;00m:\n\u001b[0;32m-> 3611\u001b[0m     \u001b[39mraise\u001b[39;00m TiffFileError(\u001b[39mf\u001b[39m\u001b[39m'\u001b[39m\u001b[39mnot a TIFF file \u001b[39m\u001b[39m{\u001b[39;00mheader\u001b[39m!r}\u001b[39;00m\u001b[39m'\u001b[39m)\n\u001b[1;32m   3613\u001b[0m version \u001b[39m=\u001b[39m struct\u001b[39m.\u001b[39munpack(byteorder \u001b[39m+\u001b[39m \u001b[39m'\u001b[39m\u001b[39mH\u001b[39m\u001b[39m'\u001b[39m, header[\u001b[39m2\u001b[39m:\u001b[39m4\u001b[39m])[\u001b[39m0\u001b[39m]\n\u001b[1;32m   3614\u001b[0m \u001b[39mif\u001b[39;00m version \u001b[39m==\u001b[39m \u001b[39m43\u001b[39m:\n\u001b[1;32m   3615\u001b[0m     \u001b[39m# BigTiff\u001b[39;00m\n",
      "\u001b[0;31mTiffFileError\u001b[0m: not a TIFF file b''"
     ]
    },
    {
     "data": {
      "image/png": "[encoded data removed]",
      "text/plain": [
       "<Figure size 720x720 with 12 Axes>"
      ]
     },
     "metadata": {
      "needs_background": "light"
     },
     "output_type": "display_data"
    }
   ],
   "source": [
    "import matplotlib.pyplot as plt\n",
    "\n",
    "\n",
    "def show_tif(img):\n",
    "    img_ = img[..., [1, 2, 3]]\n",
    "    x = img_.astype(np.int32)\n",
    "    x = x / x.max()\n",
    "    return x\n",
    "\n",
    "\n",
    "fig, axs = plt.subplots(4, 3, figsize=(10, 10))\n",
    "axs = axs.ravel()\n",
    "for i in range(12):\n",
    "    img1, img2, y = next(streamer)\n",
    "    x = show_tif(img1[0])\n",
    "    axs[i].imshow(x)\n",
    "\n",
    "#deze deed het totdat ik mijn spullen op github wilde krijgen en iets teveel heb geprobeerd"
   ]
  }
 ],
 "metadata": {
  "kernelspec": {
   "display_name": "Python 3.9.12 ('exam-22-DDG3aTJy-py3.9')",
   "language": "python",
   "name": "python3"
  },
  "language_info": {
   "codemirror_mode": {
    "name": "ipython",
    "version": 3
   },
   "file_extension": ".py",
   "mimetype": "text/x-python",
   "name": "python",
   "nbconvert_exporter": "python",
   "pygments_lexer": "ipython3",
   "version": "3.9.12"
  },
  "orig_nbformat": 4,
  "vscode": {
   "interpreter": {
    "hash": "3ef7eee7c1ffccdb050f8336de9a04a9ab88c4d3eb3bee3e0a27c87a184d1d38"
   }
  }
 },
 "nbformat": 4,
 "nbformat_minor": 2
}
